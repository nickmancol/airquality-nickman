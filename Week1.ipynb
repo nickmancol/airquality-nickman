{
 "cells": [
  {
   "cell_type": "code",
   "execution_count": 25,
   "metadata": {},
   "outputs": [],
   "source": [
    "import os\n",
    "import pandas as pd\n",
    "import numpy as np\n",
    "#from sklearn.svm\n",
    "\n",
    "\n",
    "def merge_data(folder='./', preffix='mi_pollution', encoding='ISO-8859-1'):\n",
    "    # Joins all the preffix*.csv files and the data from stations of the preffix_legend-mi.csv\n",
    "    if not os.path.exists(folder):\n",
    "        print(f\"folder {folder} doesn't exist's, no data merged\")\n",
    "        return\n",
    "\n",
    "    dataframes = []\n",
    "    names = pd.DataFrame()\n",
    "    for filename in os.listdir(folder):\n",
    "        file = folder+filename\n",
    "        if filename.startswith(preffix) and filename.endswith(\".csv\"):\n",
    "            dataframes.append(pd.read_csv(file, header=None, encoding=encoding))\n",
    "            \n",
    "        if 'legend' in filename and filename.endswith(\".csv\"):\n",
    "            names = pd.read_csv(file, header=None, encoding=encoding)\n",
    "\n",
    "    total = pd.DataFrame()\n",
    "    for df in dataframes:\n",
    "        total = total.append(df)\n",
    "\n",
    "    total = pd.merge(total, names, left_on=0, right_on=0, how='inner',sort='id')\n",
    "    \n",
    "    return total"
   ]
  },
  {
   "cell_type": "code",
   "execution_count": 34,
   "metadata": {},
   "outputs": [
    {
     "name": "stdout",
     "output_type": "stream",
     "text": [
      "   station_id              date   val           station_name   latitude  \\\n",
      "0        5504  2013/12/31 04:00  53.0  Milano - viale Marche  45.496067   \n",
      "1        5504  2013/12/31 05:00  59.0  Milano - viale Marche  45.496067   \n",
      "2        5504  2013/12/31 06:00  55.0  Milano - viale Marche  45.496067   \n",
      "3        5504  2013/12/31 07:00  51.0  Milano - viale Marche  45.496067   \n",
      "4        5504  2013/12/31 08:00  60.0  Milano - viale Marche  45.496067   \n",
      "\n",
      "   longitude           particle   unit         date_format  \n",
      "0   9.193023  Nitrogene Dioxide  µg/m3  YYYY/MM/DD HH24:MI  \n",
      "1   9.193023  Nitrogene Dioxide  µg/m3  YYYY/MM/DD HH24:MI  \n",
      "2   9.193023  Nitrogene Dioxide  µg/m3  YYYY/MM/DD HH24:MI  \n",
      "3   9.193023  Nitrogene Dioxide  µg/m3  YYYY/MM/DD HH24:MI  \n",
      "4   9.193023  Nitrogene Dioxide  µg/m3  YYYY/MM/DD HH24:MI  \n"
     ]
    }
   ],
   "source": [
    "#assumes no header in the names file\n",
    "path = '/home/nickman/code/MADAS/II/Lab Rossi/MI_Air_Quality/data/'\n",
    "air = merge_data(path)\n",
    "air.rename(columns={0:'station_id','1_x': 'date', '2_x': 'val', '1_y':'station_name', '2_y':'latitude'\n",
    "                    , 3:'longitude', 4:'particle', 5:'unit',6:'date_format'}, inplace=True)\n",
    "print(air.head())"
   ]
  },
  {
   "cell_type": "code",
   "execution_count": 36,
   "metadata": {},
   "outputs": [],
   "source": [
    "air.to_csv(path+'total_airquality_milano.csv', sep=';')"
   ]
  },
  {
   "cell_type": "markdown",
   "metadata": {},
   "source": [
    "# TODO: Exploratory analysis"
   ]
  },
  {
   "cell_type": "code",
   "execution_count": 37,
   "metadata": {},
   "outputs": [
    {
     "data": {
      "text/plain": [
       "station_name\n",
       "Milano - P.zza  Zavattari       5842\n",
       "Milano - P.zza Abbiategrasso    2180\n",
       "Milano - Parco Lambro           3476\n",
       "Milano - via Senato             6797\n",
       "Milano - via Verziere           3990\n",
       "Milano - viale Liguria          4386\n",
       "Milano - viale Marche           5866\n",
       "Milano -via Carlo Pascal        8751\n",
       "Name: particle, dtype: int64"
      ]
     },
     "execution_count": 37,
     "metadata": {},
     "output_type": "execute_result"
    }
   ],
   "source": [
    "air.groupby('station_name').particle.count()"
   ]
  },
  {
   "cell_type": "code",
   "execution_count": 38,
   "metadata": {},
   "outputs": [
    {
     "data": {
      "text/plain": [
       "station_name                  station_id\n",
       "Milano - P.zza  Zavattari     5506          1460\n",
       "                              5841          1461\n",
       "                              6062          1461\n",
       "                              6372          1460\n",
       "Milano - P.zza Abbiategrasso  5552           719\n",
       "                              6344          1461\n",
       "Milano - Parco Lambro         5550          1062\n",
       "                              5722          1353\n",
       "                              6340          1061\n",
       "Milano - via Senato           5551          2205\n",
       "                              5834          1462\n",
       "                              6057          1462\n",
       "                              6354          1462\n",
       "                              10320           59\n",
       "                              17122           59\n",
       "                              20005           88\n",
       "Milano - via Verziere         5531          1312\n",
       "                              5725          1312\n",
       "                              6366          1312\n",
       "                              6956            54\n",
       "Milano - viale Liguria        5542          1462\n",
       "                              5823          1462\n",
       "                              6320          1462\n",
       "Milano - viale Marche         5504          1461\n",
       "                              5827          1461\n",
       "                              6328          1460\n",
       "                              17127         1484\n",
       "Milano -via Carlo Pascal      10273           61\n",
       "                              10278         1459\n",
       "                              10279         1461\n",
       "                              10280         1352\n",
       "                              10282         1461\n",
       "                              10283           61\n",
       "                              17126         1461\n",
       "                              20004          692\n",
       "                              20020          743\n",
       "Name: particle, dtype: int64"
      ]
     },
     "execution_count": 38,
     "metadata": {},
     "output_type": "execute_result"
    }
   ],
   "source": [
    "air.groupby(['station_name','station_id']).particle.count()"
   ]
  },
  {
   "cell_type": "code",
   "execution_count": 52,
   "metadata": {},
   "outputs": [],
   "source": [
    "air['city'], air['station'] = air.station_name.str.split('-',1).str"
   ]
  },
  {
   "cell_type": "code",
   "execution_count": 48,
   "metadata": {},
   "outputs": [
    {
     "data": {
      "text/html": [
       "<div>\n",
       "<style scoped>\n",
       "    .dataframe tbody tr th:only-of-type {\n",
       "        vertical-align: middle;\n",
       "    }\n",
       "\n",
       "    .dataframe tbody tr th {\n",
       "        vertical-align: top;\n",
       "    }\n",
       "\n",
       "    .dataframe thead th {\n",
       "        text-align: right;\n",
       "    }\n",
       "</style>\n",
       "<table border=\"1\" class=\"dataframe\">\n",
       "  <thead>\n",
       "    <tr style=\"text-align: right;\">\n",
       "      <th></th>\n",
       "      <th>station_id</th>\n",
       "      <th>date</th>\n",
       "      <th>val</th>\n",
       "      <th>station_name</th>\n",
       "      <th>latitude</th>\n",
       "      <th>longitude</th>\n",
       "      <th>particle</th>\n",
       "      <th>unit</th>\n",
       "      <th>date_format</th>\n",
       "      <th>city</th>\n",
       "      <th>station</th>\n",
       "    </tr>\n",
       "  </thead>\n",
       "  <tbody>\n",
       "    <tr>\n",
       "      <th>0</th>\n",
       "      <td>5504</td>\n",
       "      <td>2013/12/31 04:00</td>\n",
       "      <td>53.0</td>\n",
       "      <td>Milano - viale Marche</td>\n",
       "      <td>45.496067</td>\n",
       "      <td>9.193023</td>\n",
       "      <td>Nitrogene Dioxide</td>\n",
       "      <td>µg/m3</td>\n",
       "      <td>YYYY/MM/DD HH24:MI</td>\n",
       "      <td>Milano</td>\n",
       "      <td>viale Marche</td>\n",
       "    </tr>\n",
       "    <tr>\n",
       "      <th>1</th>\n",
       "      <td>5504</td>\n",
       "      <td>2013/12/31 05:00</td>\n",
       "      <td>59.0</td>\n",
       "      <td>Milano - viale Marche</td>\n",
       "      <td>45.496067</td>\n",
       "      <td>9.193023</td>\n",
       "      <td>Nitrogene Dioxide</td>\n",
       "      <td>µg/m3</td>\n",
       "      <td>YYYY/MM/DD HH24:MI</td>\n",
       "      <td>Milano</td>\n",
       "      <td>viale Marche</td>\n",
       "    </tr>\n",
       "    <tr>\n",
       "      <th>2</th>\n",
       "      <td>5504</td>\n",
       "      <td>2013/12/31 06:00</td>\n",
       "      <td>55.0</td>\n",
       "      <td>Milano - viale Marche</td>\n",
       "      <td>45.496067</td>\n",
       "      <td>9.193023</td>\n",
       "      <td>Nitrogene Dioxide</td>\n",
       "      <td>µg/m3</td>\n",
       "      <td>YYYY/MM/DD HH24:MI</td>\n",
       "      <td>Milano</td>\n",
       "      <td>viale Marche</td>\n",
       "    </tr>\n",
       "    <tr>\n",
       "      <th>3</th>\n",
       "      <td>5504</td>\n",
       "      <td>2013/12/31 07:00</td>\n",
       "      <td>51.0</td>\n",
       "      <td>Milano - viale Marche</td>\n",
       "      <td>45.496067</td>\n",
       "      <td>9.193023</td>\n",
       "      <td>Nitrogene Dioxide</td>\n",
       "      <td>µg/m3</td>\n",
       "      <td>YYYY/MM/DD HH24:MI</td>\n",
       "      <td>Milano</td>\n",
       "      <td>viale Marche</td>\n",
       "    </tr>\n",
       "    <tr>\n",
       "      <th>4</th>\n",
       "      <td>5504</td>\n",
       "      <td>2013/12/31 08:00</td>\n",
       "      <td>60.0</td>\n",
       "      <td>Milano - viale Marche</td>\n",
       "      <td>45.496067</td>\n",
       "      <td>9.193023</td>\n",
       "      <td>Nitrogene Dioxide</td>\n",
       "      <td>µg/m3</td>\n",
       "      <td>YYYY/MM/DD HH24:MI</td>\n",
       "      <td>Milano</td>\n",
       "      <td>viale Marche</td>\n",
       "    </tr>\n",
       "  </tbody>\n",
       "</table>\n",
       "</div>"
      ],
      "text/plain": [
       "   station_id              date   val           station_name   latitude  \\\n",
       "0        5504  2013/12/31 04:00  53.0  Milano - viale Marche  45.496067   \n",
       "1        5504  2013/12/31 05:00  59.0  Milano - viale Marche  45.496067   \n",
       "2        5504  2013/12/31 06:00  55.0  Milano - viale Marche  45.496067   \n",
       "3        5504  2013/12/31 07:00  51.0  Milano - viale Marche  45.496067   \n",
       "4        5504  2013/12/31 08:00  60.0  Milano - viale Marche  45.496067   \n",
       "\n",
       "   longitude           particle   unit         date_format     city  \\\n",
       "0   9.193023  Nitrogene Dioxide  µg/m3  YYYY/MM/DD HH24:MI  Milano    \n",
       "1   9.193023  Nitrogene Dioxide  µg/m3  YYYY/MM/DD HH24:MI  Milano    \n",
       "2   9.193023  Nitrogene Dioxide  µg/m3  YYYY/MM/DD HH24:MI  Milano    \n",
       "3   9.193023  Nitrogene Dioxide  µg/m3  YYYY/MM/DD HH24:MI  Milano    \n",
       "4   9.193023  Nitrogene Dioxide  µg/m3  YYYY/MM/DD HH24:MI  Milano    \n",
       "\n",
       "         station  \n",
       "0   viale Marche  \n",
       "1   viale Marche  \n",
       "2   viale Marche  \n",
       "3   viale Marche  \n",
       "4   viale Marche  "
      ]
     },
     "execution_count": 48,
     "metadata": {},
     "output_type": "execute_result"
    }
   ],
   "source": [
    "air.head()"
   ]
  },
  {
   "cell_type": "code",
   "execution_count": null,
   "metadata": {},
   "outputs": [],
   "source": []
  }
 ],
 "metadata": {
  "kernelspec": {
   "display_name": "Python 3",
   "language": "python",
   "name": "python3"
  },
  "language_info": {
   "codemirror_mode": {
    "name": "ipython",
    "version": 3
   },
   "file_extension": ".py",
   "mimetype": "text/x-python",
   "name": "python",
   "nbconvert_exporter": "python",
   "pygments_lexer": "ipython3",
   "version": "3.6.4"
  }
 },
 "nbformat": 4,
 "nbformat_minor": 2
}
